{
  "cells": [
    {
      "cell_type": "markdown",
      "metadata": {
        "id": "ILcotuXl38e6"
      },
      "source": [
        "# Practical 3: MNIST\n",
        "\n",
        "This is the first task of Practical 3. Your task is to build a (convolutional) neural network to classify the handwritten digits from the MNIST dataset (http://yann.lecun.com/exdb/mnist/). \n",
        "\n",
        "You should get an accuracy of **at least 97%** to pass the practical. \n",
        "\n",
        "The model files might be too large to be uploaded to GitHub. \n",
        "Please use the following link to upload your models: https://seafile.ifi.uzh.ch/u/d/695f63e725b641ed8633/\n",
        "\n",
        "Name the model file `{repository_name}-MNIST.h5`. For example, if your repository is FDS22-M0, you should name the model file `FDS22-M0-MNIST.h5`. If you are not satisfied with the model you have uploaded, you can upload a new one with the same name. We will only look at the newest model. Nevertheless, try to upload as few times as possible, since the online drive has a limited amount of space. "
      ]
    },
    {
      "cell_type": "markdown",
      "metadata": {
        "id": "6sad2i4c38fQ"
      },
      "source": [
        "## Import the libraries"
      ]
    },
    {
      "cell_type": "code",
      "execution_count": 1,
      "metadata": {
        "id": "BDWRgJrX38fT"
      },
      "outputs": [],
      "source": [
        "import numpy as np\n",
        "import pandas as pd\n",
        "import matplotlib.pyplot as plt\n",
        "\n",
        "import tensorflow as tf\n",
        "from tensorflow import keras"
      ]
    },
    {
      "cell_type": "code",
      "execution_count": 2,
      "metadata": {
        "colab": {
          "base_uri": "https://localhost:8080/",
          "height": 37
        },
        "id": "e8VhY33638fa",
        "outputId": "96f8571b-c4b0-422e-8039-072f8052d681"
      },
      "outputs": [
        {
          "output_type": "execute_result",
          "data": {
            "text/plain": [
              "'2.9.2'"
            ],
            "application/vnd.google.colaboratory.intrinsic+json": {
              "type": "string"
            }
          },
          "metadata": {},
          "execution_count": 2
        }
      ],
      "source": [
        "tf.__version__"
      ]
    },
    {
      "cell_type": "code",
      "execution_count": 3,
      "metadata": {
        "colab": {
          "base_uri": "https://localhost:8080/",
          "height": 37
        },
        "id": "oJrW0eT838fh",
        "outputId": "d94198f7-dc21-4928-8d1d-3edb99ae4d80"
      },
      "outputs": [
        {
          "output_type": "execute_result",
          "data": {
            "text/plain": [
              "'2.9.0'"
            ],
            "application/vnd.google.colaboratory.intrinsic+json": {
              "type": "string"
            }
          },
          "metadata": {},
          "execution_count": 3
        }
      ],
      "source": [
        "tf.keras.__version__"
      ]
    },
    {
      "cell_type": "markdown",
      "metadata": {
        "id": "92XWbHet38fl"
      },
      "source": [
        "## Prepare the dataset\n",
        "\n",
        "In this block, you will prepare the data for the training, such as normalisation. "
      ]
    },
    {
      "cell_type": "code",
      "execution_count": 4,
      "metadata": {
        "colab": {
          "base_uri": "https://localhost:8080/",
          "height": 304
        },
        "id": "Fvuyjy4J38fn",
        "outputId": "d3f3d950-b25e-4c09-9206-b05050a0f061"
      },
      "outputs": [
        {
          "output_type": "display_data",
          "data": {
            "text/plain": [
              "<Figure size 432x288 with 9 Axes>"
            ],
            "image/png": "[encoded data removed]"
          },
          "metadata": {
            "needs_background": "light"
          }
        },
        {
          "output_type": "stream",
          "name": "stdout",
          "text": [
            "(28, 28)\n",
            "(28, 28, 1)\n"
          ]
        }
      ],
      "source": [
        "from keras.datasets import mnist\n",
        "(X_train_full, y_train_full), (X_test, y_test) = mnist.load_data()\n",
        "\n",
        "for i in range(0,9):\n",
        "    plt.subplot(330 + 1 + i)\n",
        "    plt.imshow(X_train_full[i])\n",
        "plt.show()\n",
        "\n",
        "print(X_train_full.shape[1:])\n",
        "\n",
        "# one-hot encoding\n",
        "y_train_full = keras.utils.to_categorical(y_train_full, num_classes=10)\n",
        "y_test = keras.utils.to_categorical(y_test, num_classes=10)\n",
        "\n",
        "# normalisation\n",
        "X_train_full = X_train_full/255.0\n",
        "X_test = X_test/255.0\n",
        "\n",
        "# expand dim\n",
        "X_train_full = np.expand_dims(X_train_full, axis=3)\n",
        "X_test = np.expand_dims(X_test, axis=3)\n",
        "\n",
        "print(X_train_full.shape[1:])\n",
        "\n",
        "# get validation dataset\n",
        "np.random.seed(42) # set the random seed to make sure everytime the data is shuffled in the same way \n",
        "shuffled_indices = np.random.permutation(X_train_full.shape[0])\n",
        "v_indx = int(X_train_full.shape[0] * 0.2)\n",
        "##print(v_indx)\n",
        "X_valid, X_train = X_train_full[shuffled_indices[:v_indx]], X_train_full[shuffled_indices[v_indx:]]\n",
        "y_valid, y_train = y_train_full[shuffled_indices[:v_indx]], y_train_full[shuffled_indices[v_indx:]]"
      ]
    },
    {
      "cell_type": "markdown",
      "metadata": {
        "id": "7jGBFZaE38ft"
      },
      "source": [
        "## Build and train the model\n",
        "\n",
        "Build and train your model. "
      ]
    },
    {
      "cell_type": "code",
      "execution_count": 5,
      "metadata": {
        "id": "xXitDo-o38fx",
        "colab": {
          "base_uri": "https://localhost:8080/"
        },
        "outputId": "efb775fc-2b4c-4ceb-8962-294f6084acf3"
      },
      "outputs": [
        {
          "output_type": "stream",
          "name": "stderr",
          "text": [
            "<ipython-input-5-f7112bc25df3>:19: DeprecationWarning: KerasRegressor is deprecated, use Sci-Keras (https://github.com/adriangb/scikeras) instead. See https://www.adriangb.com/scikeras/stable/migration.html for help migrating.\n",
            "  keras_reg = keras.wrappers.scikit_learn.KerasRegressor(build_model)\n"
          ]
        },
        {
          "output_type": "stream",
          "name": "stdout",
          "text": [
            "1250/1250 [==============================] - 15s 8ms/step - loss: 0.2654 - accuracy: 0.9185 - val_loss: 0.2299 - val_accuracy: 0.9284\n",
            "625/625 [==============================] - 3s 4ms/step - loss: 0.2572 - accuracy: 0.9179\n",
            "1250/1250 [==============================] - 8s 6ms/step - loss: 0.3249 - accuracy: 0.8993 - val_loss: 0.1471 - val_accuracy: 0.9547\n",
            "625/625 [==============================] - 2s 2ms/step - loss: 0.1731 - accuracy: 0.9456\n",
            "1250/1250 [==============================] - 6s 5ms/step - loss: 0.3029 - accuracy: 0.9078 - val_loss: 0.1659 - val_accuracy: 0.9474\n",
            "625/625 [==============================] - 2s 2ms/step - loss: 0.1856 - accuracy: 0.9444\n",
            "1875/1875 [==============================] - 9s 5ms/step - loss: 0.2725 - accuracy: 0.9159 - val_loss: 0.1391 - val_accuracy: 0.9578\n",
            "{'n_neurons': 85, 'n_hidden': 1, 'n_filter': 2, 'n_conv': 4, 'learning_rate': 0.001, 'kernel_size': 2}\n",
            "-0.20528851946194968\n"
          ]
        }
      ],
      "source": [
        "# TODO: Build your model\n",
        "\n",
        "##transfer the keras model to a scikit-learn regressor to choose hyperparameter\n",
        "def build_model(n_conv=1, n_filter=4, kernel_size=2, n_hidden=1, n_neurons=30, learning_rate=0.001, input_shape=[28,28,1]):\n",
        "    model = keras.models.Sequential()\n",
        "    model.add(keras.layers.InputLayer(input_shape=input_shape)) ##input layer\n",
        "    for layer in range(n_conv): ##conv layers\n",
        "      model.add(keras.layers.Conv2D(filters=n_filter, kernel_size=kernel_size, activation=\"elu\", kernel_initializer='he_normal', padding=\"same\"))\n",
        "    model.add(keras.layers.MaxPooling2D(pool_size=2)) ##pooling layer\n",
        "    model.add(keras.layers.Flatten()) ##starting fully connected layers\n",
        "    for layer in range(n_hidden):\n",
        "      model.add(keras.layers.BatchNormalization())\n",
        "      model.add(keras.layers.Dense(n_neurons, activation=\"elu\", kernel_initializer=\"he_normal\")) ##add BN layers after all hidden layers' activation function\n",
        "    model.add(keras.layers.Dense(10, activation=\"softmax\")) ##output layer\n",
        "    model.compile(loss=\"categorical_crossentropy\",\n",
        "              optimizer=keras.optimizers.Adam(learning_rate=learning_rate),\n",
        "              metrics=[\"accuracy\"])\n",
        "    return model\n",
        "keras_reg = keras.wrappers.scikit_learn.KerasRegressor(build_model)\n",
        "\n",
        "##set hyperparameter distribution\n",
        "from sklearn.model_selection import RandomizedSearchCV\n",
        "param_distributions = {\n",
        "    \"n_conv\": [1, 2, 3, 4],\n",
        "    \"n_filter\": [2, 3, 4, 5, 6],\n",
        "    \"kernel_size\": [2, 3, 4, 5, 6],\n",
        "    \"n_hidden\": [0, 1, 2, 3],\n",
        "    \"n_neurons\": np.arange(50, 100).tolist(),\n",
        "    \"learning_rate\": [1e-4, 1e-3, 1e-2],\n",
        "}\n",
        "\n",
        "##search for best hyperparamter\n",
        "rnd_search_cv = RandomizedSearchCV(estimator=keras_reg, \n",
        "                  param_distributions=param_distributions, \n",
        "                  n_iter=1, \n",
        "                  cv=3)\n",
        "rnd_search_cv.fit(X_train_full, y_train_full, epochs=1, validation_data=(X_valid, y_valid))\n",
        "\n",
        "##build model\n",
        "print(rnd_search_cv.best_params_)\n",
        "print(rnd_search_cv.best_score_)\n",
        "model = rnd_search_cv.best_estimator_.model"
      ]
    },
    {
      "cell_type": "code",
      "execution_count": 6,
      "metadata": {
        "colab": {
          "base_uri": "https://localhost:8080/"
        },
        "id": "XNDmE3Zm38f0",
        "outputId": "5438b097-3868-4935-b87b-0819ebabaf2b"
      },
      "outputs": [
        {
          "output_type": "stream",
          "name": "stdout",
          "text": [
            "Model: \"sequential_3\"\n",
            "_________________________________________________________________\n",
            " Layer (type)                Output Shape              Param #   \n",
            "=================================================================\n",
            " conv2d_12 (Conv2D)          (None, 28, 28, 2)         10        \n",
            "                                                                 \n",
            " conv2d_13 (Conv2D)          (None, 28, 28, 2)         18        \n",
            "                                                                 \n",
            " conv2d_14 (Conv2D)          (None, 28, 28, 2)         18        \n",
            "                                                                 \n",
            " conv2d_15 (Conv2D)          (None, 28, 28, 2)         18        \n",
            "                                                                 \n",
            " max_pooling2d_3 (MaxPooling  (None, 14, 14, 2)        0         \n",
            " 2D)                                                             \n",
            "                                                                 \n",
            " flatten_3 (Flatten)         (None, 392)               0         \n",
            "                                                                 \n",
            " batch_normalization_3 (Batc  (None, 392)              1568      \n",
            " hNormalization)                                                 \n",
            "                                                                 \n",
            " dense_6 (Dense)             (None, 85)                33405     \n",
            "                                                                 \n",
            " dense_7 (Dense)             (None, 10)                860       \n",
            "                                                                 \n",
            "=================================================================\n",
            "Total params: 35,897\n",
            "Trainable params: 35,113\n",
            "Non-trainable params: 784\n",
            "_________________________________________________________________\n"
          ]
        }
      ],
      "source": [
        "# show the structure of your model\n",
        "model.summary()"
      ]
    },
    {
      "cell_type": "code",
      "execution_count": 7,
      "metadata": {
        "colab": {
          "base_uri": "https://localhost:8080/",
          "height": 843
        },
        "id": "hVgt4t6138f2",
        "outputId": "2f8021e5-87a5-481f-971f-ff6620cb5a5a"
      },
      "outputs": [
        {
          "output_type": "stream",
          "name": "stdout",
          "text": [
            "Epoch 1/10\n",
            "480/480 [==============================] - 3s 6ms/step - loss: 0.1199 - accuracy: 0.9639 - val_loss: 0.1093 - val_accuracy: 0.9670\n",
            "Epoch 2/10\n",
            "480/480 [==============================] - 3s 5ms/step - loss: 0.1035 - accuracy: 0.9687 - val_loss: 0.1040 - val_accuracy: 0.9693\n",
            "Epoch 3/10\n",
            "480/480 [==============================] - 3s 5ms/step - loss: 0.0908 - accuracy: 0.9718 - val_loss: 0.0954 - val_accuracy: 0.9704\n",
            "Epoch 4/10\n",
            "480/480 [==============================] - 3s 5ms/step - loss: 0.0807 - accuracy: 0.9743 - val_loss: 0.0943 - val_accuracy: 0.9709\n",
            "Epoch 5/10\n",
            "480/480 [==============================] - 3s 5ms/step - loss: 0.0723 - accuracy: 0.9769 - val_loss: 0.0889 - val_accuracy: 0.9735\n",
            "Epoch 6/10\n",
            "480/480 [==============================] - 3s 5ms/step - loss: 0.0649 - accuracy: 0.9788 - val_loss: 0.0838 - val_accuracy: 0.9752\n",
            "Epoch 7/10\n",
            "480/480 [==============================] - 3s 5ms/step - loss: 0.0585 - accuracy: 0.9815 - val_loss: 0.0886 - val_accuracy: 0.9728\n",
            "Epoch 8/10\n",
            "480/480 [==============================] - 3s 6ms/step - loss: 0.0519 - accuracy: 0.9839 - val_loss: 0.0980 - val_accuracy: 0.9701\n",
            "Epoch 9/10\n",
            "480/480 [==============================] - 4s 7ms/step - loss: 0.0466 - accuracy: 0.9855 - val_loss: 0.0853 - val_accuracy: 0.9747\n",
            "Epoch 10/10\n",
            "480/480 [==============================] - 2s 5ms/step - loss: 0.0431 - accuracy: 0.9860 - val_loss: 0.0852 - val_accuracy: 0.9747\n"
          ]
        },
        {
          "output_type": "display_data",
          "data": {
            "text/plain": [
              "<Figure size 864x576 with 1 Axes>"
            ],
            "image/png": "[encoded data removed]"
          },
          "metadata": {
            "needs_background": "light"
          }
        }
      ],
      "source": [
        "# Assume you have stored the training history in the variable \"history\"\n",
        "# Show the learning curves\n",
        "history = model.fit(X_train, y_train, batch_size=100, epochs=10, \n",
        "                    validation_data=(X_valid, y_valid))\n",
        "\n",
        "pd.DataFrame(history.history).plot(figsize=(12, 8))\n",
        "plt.gca().set_ylim(0, 1)\n",
        "plt.grid(True)\n",
        "plt.show()"
      ]
    },
    {
      "cell_type": "markdown",
      "metadata": {
        "id": "oapyAKAy38f4"
      },
      "source": [
        "## Save the model\n",
        "\n",
        "Save and upload your trained model to the seafile link we provided to you. You can upload it multiple times. We will consider only the newest uploaded model. "
      ]
    },
    {
      "cell_type": "code",
      "execution_count": 8,
      "metadata": {
        "id": "_zi271-q38f8"
      },
      "outputs": [],
      "source": [
        "model.save('FDS22-M020-MNIST.h5') # change the file name according to your repository name"
      ]
    },
    {
      "cell_type": "markdown",
      "metadata": {
        "id": "MQgG2ygE38f-"
      },
      "source": [
        "## Load the model and evaluate it on the test data"
      ]
    },
    {
      "cell_type": "code",
      "execution_count": 9,
      "metadata": {
        "colab": {
          "base_uri": "https://localhost:8080/"
        },
        "id": "KwU4ahxF38f_",
        "outputId": "3ad3cc29-b121-4812-aa22-feb685d3f699"
      },
      "outputs": [
        {
          "output_type": "stream",
          "name": "stdout",
          "text": [
            "313/313 [==============================] - 1s 3ms/step - loss: 0.0865 - accuracy: 0.9729\n"
          ]
        },
        {
          "output_type": "execute_result",
          "data": {
            "text/plain": [
              "[0.08652522414922714, 0.9728999733924866]"
            ]
          },
          "metadata": {},
          "execution_count": 9
        }
      ],
      "source": [
        "model = keras.models.load_model(\"FDS22-M020-MNIST.h5\")\n",
        "model.evaluate(X_test, y_test)"
      ]
    },
    {
      "cell_type": "markdown",
      "metadata": {
        "id": "hnKaRQPc38gB"
      },
      "source": [
        "## Short report\n",
        "\n"
      ]
    },
    {
      "cell_type": "markdown",
      "metadata": {
        "id": "8wpMF6WW38gC"
      },
      "source": [
        "First, we preprocess the data with one-hot encoding, normalization and dimention expansion.\n",
        "\n",
        "Then, we build the model in the following steps:\n",
        "\n",
        "Create build_model function and transfer it to a scikit-learn regressor.\n",
        "\n",
        "Random search is used to decide the number of convolution layers, filters, hidden layers and neurons, and learning rate. The initial parameter distributions were modified accordingly while the performance in some area is very good. Finally, we ended up with current distributions.\n",
        "\n",
        "The ultimate model is built on the best parameters."
      ]
    }
  ],
  "metadata": {
    "kernelspec": {
      "display_name": "Python 3 (ipykernel)",
      "language": "python",
      "name": "python3"
    },
    "language_info": {
      "codemirror_mode": {
        "name": "ipython",
        "version": 3
      },
      "file_extension": ".py",
      "mimetype": "text/x-python",
      "name": "python",
      "nbconvert_exporter": "python",
      "pygments_lexer": "ipython3",
      "version": "3.9.12"
    },
    "colab": {
      "provenance": []
    },
    "accelerator": "GPU",
    "gpuClass": "standard"
  },
  "nbformat": 4,
  "nbformat_minor": 0
}
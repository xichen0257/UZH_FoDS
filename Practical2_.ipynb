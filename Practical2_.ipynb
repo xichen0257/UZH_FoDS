{
 "cells": [
  {
   "cell_type": "markdown",
   "metadata": {},
   "source": [
    "# Practical 2 : Generative and Discriminative Models\n"
   ]
  },
  {
   "cell_type": "markdown",
   "metadata": {},
   "source": [
    "In this practical, we will compare the Naïve Bayes Classifier (NBC) and Logistic Regression on several\n",
    "datasets. As part of the practical you should read briefly the following paper:\n",
    "\n"
   ]
  },
  {
   "cell_type": "markdown",
   "metadata": {},
   "source": [
    "**On Discriminative vs. Generative classifiers: A comparison of logistic regression\n",
    "and naive Bayes**  \n",
    "*Andrew Y. Ng and Michael I. Jordan*  \n",
    "Advances in Neural Information Processing Systems (NIPS) 2001.\n",
    "\n",
    "The paper is available on OLAT. "
   ]
  },
  {
   "cell_type": "markdown",
   "metadata": {},
   "source": [
    "You should read the Introduction and the Experiments sections. The goal of this practical is\n",
    "to qualitatively reproduce some of the experimental results in this paper. You are strongly\n",
    "encouraged to read the rest of the paper, which is rather short and straightforward to read,\n",
    "though some of you may want to skip the formal proofs."
   ]
  },
  {
   "cell_type": "markdown",
   "metadata": {},
   "source": [
    "## Naïve Bayes Classifier (NBC)"
   ]
  },
  {
   "cell_type": "markdown",
   "metadata": {},
   "source": [
    "You should implement a Naïve Bayes Classifier from scartch using NumPy. To keep your code tidy,\n",
    "we recommend implementing it as a class. \n",
    "The classifier should be able to handle binary and continuous features. \n",
    "To earn the bonus points, the classifier should be able to handle categorical features as well. \n",
    "Suppose the data has 3\n",
    "different features, the first being binary, the second being continuous and the third being categorical. Write an implementation that you can initialise as follows:\n",
    "\n",
    "    nbc = NBC(feature_types=['b', 'r', 'c'])"
   ]
  },
  {
   "cell_type": "markdown",
   "metadata": {},
   "source": [
    "Along the lines of classifiers provided in sklearn, you want to implement two more functions,\n",
    "**fit** and **predict**. \n",
    "Recall the joint distribution of a generative model: $p(\\mathbf{x}, y \\mid \\theta, \\pi) = p(y \\mid \\pi) \\cdot p(\\mathbf{x} \\mid y, \\theta)$.\n",
    "The **fit** function is to estimate all the parameters ($\\theta$ and $\\pi$) of the NBC, i.e., train the classifier. The **predict** function computes the probabilities that the new input belongs to all classes and\n",
    "then returns the class that has the largest probability, i.e., makes a prediction.\n",
    "\n",
    "    nbc.fit(X_train, y_train)\n",
    "    ypredicted = nbc.predict(X_test)\n",
    "    test_accuracy = np.mean(ypredicted == ytest)"
   ]
  },
  {
   "cell_type": "markdown",
   "metadata": {},
   "source": [
    "Here we import the libraries. "
   ]
  },
  {
   "cell_type": "code",
   "execution_count": 41,
   "metadata": {},
   "outputs": [],
   "source": [
    "%matplotlib inline\n",
    "import pylab\n",
    "pylab.rcParams['figure.figsize'] = (10., 10.)\n",
    "\n",
    "import pickle as cp\n",
    "import matplotlib.pyplot as plt\n",
    "import numpy as np"
   ]
  },
  {
   "cell_type": "markdown",
   "metadata": {},
   "source": [
    "### Class-conditional distributions\n",
    "\n",
    "Before implementing NBC, we first implement the class-conditional distributions $p(\\mathbf{x} \\mid y, \\theta)$. Your implementation should have two functions: **estimate** and **get_log_probability**. \n",
    "\n",
    "- The **estimate** function takes data as input and models the data using some distribution $p(x \\mid \\theta)$, where $\\theta$ is the parameters of this distribution. The function estimates the parameters $\\theta$ using maximum likelihood estimators (MLE). \n",
    "For example, in the case of continuous features, we use the Gaussian distribution to model the data. The estimate function will find the parameters $\\mu$ and $\\sigma$ for the Gaussian distribution with respect to the input data. \n",
    "\n",
    "- The **get_log_probability** function takes as input a new data point $x_{new}$ and returns the log of $p(x_{new} \\mid \\theta)$. For the Gaussian distribution, the function get_probability will return $\\mathcal{N}(x_{new} \\mid \\mu, \\sigma^2)$. "
   ]
  },
  {
   "cell_type": "markdown",
   "metadata": {},
   "source": [
    "For different types of features, you need to use different distributions.\n",
    "You can import statistic libraries (e.g., `scipy.stats`) for the implementation of the distributions. \n",
    "\n",
    "- For **continuous features**: Use Gaussian distribution\n",
    "    https://docs.scipy.org/doc/scipy/reference/generated/scipy.stats.norm.html\n",
    "- For **binary features**: Use Bernoulli distribution \n",
    "    https://docs.scipy.org/doc/scipy/reference/generated/scipy.stats.bernoulli.html\n",
    "- For **categorical features**: Use Multinoulli distribution (The multinoulli distribution is a special case of the multinomial distribution, where the number of trials is 1)\n",
    "    https://docs.scipy.org/doc/scipy/reference/generated/scipy.stats.multinomial.html\n",
    "\n",
    "Example: https://stackoverflow.com/questions/12412895/how-to-calculate-probability-in-a-normal-distribution-given-mean-standard-devi\n"
   ]
  },
  {
   "cell_type": "markdown",
   "metadata": {},
   "source": [
    "**Implementation Issues:**\n",
    "- The probabilities can be very small. To avoid underflow issues, you should compute the log of the probabilities. Read more: (Mur) Chapter 3.5.3 / Lecture Notes\n",
    "- The variance for Gaussian distributions should never be exactly 0, so in\n",
    "case your calculated variance is 0, you may want to set it to a small value such as 1e − 6. This is to ensure that your code never encounters division by zero or\n",
    "taking logarithms of 0 errors. \n",
    "For this practical, please set the small value to 1e-6.\n",
    "- Laplace/Additive smoothing: You want to ensure that the estimates for the parameter for the Bernoulli and Multinoulli random variables is never exactly 0 or 1. For this reason you should consider using Laplace smoothing (https://en.wikipedia.org/wiki/Additive_smoothing).\n",
    "For this practical, please set alpha to 1.\n",
    "- For simplicity, you can assume the data values for binary features are integers from {0,1} and the data for a categorical feature with M categories are integers from {0, ..., M-1}.\n",
    "- Fell free to add auxiliary functions or change the parameters of the functions. If you change the parameters of the functions, make sure you change the tests accordingly, so we can test your code.\n"
   ]
  },
  {
   "cell_type": "code",
   "execution_count": 42,
   "metadata": {},
   "outputs": [],
   "source": [
    "ALPHA = 1.0 # for additive smoothing\n",
    "\n",
    "from scipy import stats\n",
    "from collections import Counter\n",
    "\n",
    "# Distribution for continuous features\n",
    "class ContFeatureParam:\n",
    "    def estimate(self, X):\n",
    "        # TODO: Estimate the parameters for the Gaussian distribution \n",
    "        # so that it best describes the input data X\n",
    "        # The code below is just for compilation. \n",
    "        # You need to replace it by your own code.\n",
    "        ###################################################\n",
    "        ##### YOUR CODE STARTS HERE #######################\n",
    "        ###################################################\n",
    "        self.mu = np.mean(X)\n",
    "        sigma = np.std(X)\n",
    "        if sigma == 0:\n",
    "            self.sigma = np.sqrt(0.000001)\n",
    "        else:\n",
    "            self.sigma = sigma\n",
    "        ###################################################\n",
    "        ##### YOUR CODE ENDS HERE #########################\n",
    "        ###################################################\n",
    "\n",
    "    def get_log_probability(self,X_new):\n",
    "        # TODO: return the log of the density values for the input values X_new\n",
    "        # The code below is just for compilation. \n",
    "        # You need to replace it by your own code.\n",
    "        ###################################################\n",
    "        ##### YOUR CODE STARTS HERE #######################\n",
    "        ###################################################\n",
    "        mu = self.mu\n",
    "        sigma = self.sigma\n",
    "        prob = stats.norm.logpdf(X_new, mu, sigma)\n",
    "        return prob\n",
    "        ###################################################\n",
    "        ##### YOUR CODE ENDS HERE #########################\n",
    "        ###################################################\n",
    "\n",
    "# Distribution for binary features\n",
    "class BinFeatureParam:\n",
    "    def __init__(self,ALPHA):\n",
    "        self.ALPHA = ALPHA\n",
    "    def estimate(self, X):\n",
    "        # TODO: Estimate the parameters for the Bernoulli distribution \n",
    "        # so that it best describes the input data X\n",
    "        # The code below is just for compilation. \n",
    "        # You need to replace it by your own code.\n",
    "        ###################################################\n",
    "        ##### YOUR CODE STARTS HERE #######################\n",
    "        ###################################################\n",
    "        # X is a vector with binary values\n",
    "        s = np.sum(X)\n",
    "        N = np.shape(X)[0]\n",
    "        ALPHA = self.ALPHA\n",
    "        self.p = (s+ALPHA)/(N+ALPHA*2)\n",
    "        ###################################################\n",
    "        ##### YOUR CODE ENDS HERE #########################\n",
    "        ###################################################\n",
    "\n",
    "    def get_log_probability(self, X_new):\n",
    "        # TODO: return the log of the probability values for the input values X_new\n",
    "        # The code below is just for compilation. \n",
    "        # You need to replace it by your own code.\n",
    "        ###################################################\n",
    "        ##### YOUR CODE STARTS HERE #######################\n",
    "        ###################################################\n",
    "        p = self.p\n",
    "        prob = stats.bernoulli.logpmf(X_new, p)\n",
    "        return prob\n",
    "        ###################################################\n",
    "        ##### YOUR CODE ENDS HERE #########################\n",
    "        ###################################################\n",
    "\n",
    "# Distribution for categorical features\n",
    "class CatFeatureParam:\n",
    "    \n",
    "    # we need to know the number of categories for the categorical feature\n",
    "    def __init__(self, num_of_categories,ALPHA):\n",
    "        self.num_of_categories = num_of_categories\n",
    "        self.ALPHA = ALPHA\n",
    "    \n",
    "    def estimate(self, X):\n",
    "        # TODO: Estimate the parameters for the Multinoulli distribution \n",
    "        # so that it best describes the input data X\n",
    "        # The code below is just for compilation. \n",
    "        # You need to replace it by your own code.\n",
    "        ###################################################\n",
    "        ##### YOUR CODE STARTS HERE #######################\n",
    "        ###################################################\n",
    "        N = np.shape(X)[0]\n",
    "        C = self.num_of_categories\n",
    "        \n",
    "        Ni_lst = [Counter(X)[i] for i in range(C)]\n",
    "        \n",
    "        self.p = (np.array(Ni_lst)+ALPHA)/(N+C*ALPHA)\n",
    "        ###################################################\n",
    "        ##### YOUR CODE ENDS HERE #########################\n",
    "        ###################################################\n",
    "        \n",
    "    def get_log_probability(self, X_new):\n",
    "        # TODO: return the log of the probability values for the input values X_new\n",
    "        # The code below is just for compilation. \n",
    "        # You need to replace it by your own code.\n",
    "        ###################################################\n",
    "        ##### YOUR CODE STARTS HERE #######################\n",
    "        ###################################################\n",
    "        N = np.shape(X_new)[0]\n",
    "\n",
    "        p = self.p\n",
    "        # for the i-th value in X_new: p(x = X_new[i])\n",
    "        prob = [np.log(p[X_new[i]]) for i in range(N)]\n",
    "        return prob\n",
    "        ###################################################\n",
    "        ##### YOUR CODE ENDS HERE #########################\n",
    "        ###################################################"
   ]
  },
  {
   "cell_type": "markdown",
   "metadata": {},
   "source": [
    "**Tests:**\n",
    "    \n",
    "We will use the code below to test the correctness of your code."
   ]
  },
  {
   "cell_type": "code",
   "execution_count": 43,
   "metadata": {},
   "outputs": [
    {
     "name": "stdout",
     "output_type": "stream",
     "text": [
      "[-5.64670664 -3.02757918 -1.44567455 -0.90099277]\n"
     ]
    }
   ],
   "source": [
    "# continuous features\n",
    "\n",
    "X = np.array([2.70508547,2.10499698,1.76019132,3.42016431,3.47037973,3.67435061,1.84749286,4.3388506,2.27818252,4.65165335])\n",
    "\n",
    "param = ContFeatureParam()\n",
    "param.estimate(X)\n",
    "probs = param.get_log_probability(np.array([0,1,2,3]))\n",
    "print(probs)"
   ]
  },
  {
   "cell_type": "code",
   "execution_count": 44,
   "metadata": {},
   "outputs": [
    {
     "name": "stdout",
     "output_type": "stream",
     "text": [
      "[-0.87546874 -0.5389965 ]\n"
     ]
    }
   ],
   "source": [
    "# binary features\n",
    "\n",
    "X = np.array([0,0,1,1,0,1,0,1,1,1])\n",
    "\n",
    "param = BinFeatureParam(ALPHA=1)\n",
    "param.estimate(X)\n",
    "probs = param.get_log_probability(np.array([0,1]))\n",
    "print(probs)"
   ]
  },
  {
   "cell_type": "code",
   "execution_count": 45,
   "metadata": {},
   "outputs": [
    {
     "name": "stdout",
     "output_type": "stream",
     "text": [
      "[-1.9459101490553135, -2.169053700369523, -1.9459101490553135, -2.456735772821304, -2.169053700369523, -2.8622008809294686, -1.9459101490553135, -3.5553480614894135, -2.169053700369523, -2.8622008809294686]\n"
     ]
    }
   ],
   "source": [
    "# categorical features (bonus task)\n",
    "\n",
    "X = np.array([0,6,5,4,0,6,6,4,1,1,2,3,8,8,1,6,4,9,0,2,2,3,8,0,2])\n",
    "\n",
    "param = CatFeatureParam(num_of_categories=10,ALPHA=1)\n",
    "param.estimate(X)\n",
    "probs = param.get_log_probability(np.array([0,1,2,3,4,5,6,7,8,9]))\n",
    "print(probs)"
   ]
  },
  {
   "cell_type": "markdown",
   "metadata": {},
   "source": [
    "### Implement NBC\n",
    "\n",
    "We are now ready to implement NBC. We follow the structure of models in scikit-learn. We implement NBC as a class with functions **init**, **fit** and **predict**.\n",
    "The **init** function takes as input the types of features and initialise the classifier. The **fit** function takes the training data as input and estimates the parameters. The **predict** function predicts the label for the input data. "
   ]
  },
  {
   "cell_type": "markdown",
   "metadata": {},
   "source": [
    "**Implementation Issues:**\n",
    "- You should use matrix operations rather than loops. In general, loops over classes or features are OK, but loops over the rows of data are not a good idea.\n",
    "- The probabilities can be very small. To avoid underflow issues, you should do the calculations in log space. Read more: (Mur) Chapter 3.5.3 / Lecture Note\n",
    "- For simplicity, you can assume the data values for binary features are integers from {0, 1} and the data for a categorical feature with M categories are integers from {0, ..., M-1}.\n",
    "- Fell free to add auxiliary functions or change the parameters of the functions. If you change the parameters of the functions, make sure you change the tests accordingly, so we can test your code."
   ]
  },
  {
   "cell_type": "code",
   "execution_count": 46,
   "metadata": {},
   "outputs": [],
   "source": [
    "# Your task is to implement the three functions of NBC. \n",
    "\n",
    "class NBC:\n",
    "    # Inputs:\n",
    "    #   feature_types: the array of the types of the features, e.g., feature_types=['b', 'r', 'c']\n",
    "        \n",
    "    def __init__(self, feature_types=[], feature_category_numbers=[]):\n",
    "        # TODO: \n",
    "        # The code below is just for compilation. \n",
    "        # You need to replace it by your own code.\n",
    "        ###################################################\n",
    "        ##### YOUR CODE STARTS HERE #######################\n",
    "        ###################################################\n",
    "        #feature dimention D\n",
    "        self.feature_types = feature_types\n",
    "        self.D = np.shape(feature_types)[0]\n",
    "        self.feature_category_numbers=feature_category_numbers\n",
    "        ###################################################\n",
    "        ##### YOUR CODE ENDS HERE #########################\n",
    "        ###################################################\n",
    "\n",
    "        \n",
    "    # The function uses the input data to estimate all the parameters of the NBC\n",
    "    def fit(self, X, y):\n",
    "        # TODO: \n",
    "        # The code below is just for compilation. \n",
    "        # You need to replace it by your own code.\n",
    "        ###################################################\n",
    "        ##### YOUR CODE STARTS HERE #######################\n",
    "        ###################################################\n",
    "        \n",
    "        ## distinguish label values and record the responding indexes\n",
    "                \n",
    "        # X: N*D，y: N*1\n",
    "        D = self.D\n",
    "        N = np.shape(y)[0]\n",
    "        \n",
    "        # y_dic(indexes|y=c)\n",
    "        y_dic = {}\n",
    "        for i in range(0,N):\n",
    "            if not y[i] in y_dic:\n",
    "                y_dic[y[i]] = []\n",
    "            y_dic[y[i]].append(i)\n",
    "            \n",
    "        # list(classes)\n",
    "        classes = list(y_dic.keys())\n",
    "        C= len(classes)\n",
    "        \n",
    "        # cPrior: n(y=c)/N\n",
    "        self.cPrior = np.array([len(y_dic[i]) for i in classes])/N     \n",
    "        \n",
    "        # classes: C*1\n",
    "        self.classes = classes\n",
    "        self.C = C\n",
    "                \n",
    "        ## initialize the matrix of model: C*D\n",
    "        self.theta = np.ndarray((C,D),dtype = object)\n",
    "        \n",
    "        ## split the data of different classes and features\n",
    "        # loop of classes\n",
    "        for c in range(0,C):\n",
    "            #X_c\n",
    "            idxs = y_dic[classes[c]]\n",
    "            X_c = np.zeros(shape=(len(idxs),D))\n",
    "            # slice all data of a certain class\n",
    "            for i in range(0,len(idxs)):\n",
    "                X_c[i] = X[idxs[i],:]\n",
    "            #X_cj\n",
    "            for j in range(0,D):\n",
    "                X_cj = X_c[:,j]\n",
    "                # fit the model and write into modle matrix\n",
    "                if self.feature_types[j] == 'r':\n",
    "                    para = ContFeatureParam()\n",
    "                if self.feature_types[j] == 'b':\n",
    "                    para = BinFeatureParam(ALPHA=1)\n",
    "                if self.feature_types[j] == 'c':\n",
    "                    para = CatFeatureParam(num_of_categories= self.feature_category_numbers[j],ALPHA=1)\n",
    "                para.estimate(X_cj)\n",
    "                self.theta[c,j] = para\n",
    "            \n",
    "        ###################################################\n",
    "        ##### YOUR CODE ENDS HERE #########################\n",
    "        ###################################################\n",
    "                \n",
    "                \n",
    "    # The function takes the data X as input, and predicts the class for the data\n",
    "    def predict(self, X):\n",
    "        # TODO: \n",
    "        # The code below is just for compilation. \n",
    "        # You need to replace it by your own code.\n",
    "        ###################################################\n",
    "        ##### YOUR CODE STARTS HERE #######################\n",
    "        ###################################################\n",
    "        classes = self.classes\n",
    "        C = self.C\n",
    "        D = self.D\n",
    "        N = np.shape(X)[0]\n",
    "        # model:C*D\n",
    "        theta = self.theta\n",
    "\n",
    "        ## predict y_ci\n",
    "        # initialize\n",
    "        \n",
    "        # rows: X_i = (Xi1,...,Xij)^T --> prob_ic(p): y_i = c|X_i\n",
    "        prob = np.zeros((N,C))+ self.cPrior\n",
    "                                         \n",
    "        # loop of classes\n",
    "        for j in range(0,D):\n",
    "            X_j = X[:,j]\n",
    "            for c in range(0,C):\n",
    "                #Class-conditional distributions ccd_cj\n",
    "                ccd_cj = theta[c,j].get_log_probability(X_j)   #x|y=c,theta\n",
    "                prob[:,c] = prob[:,c] + ccd_cj\n",
    "        \n",
    "        #print(prob)\n",
    "        argmax = np.argmax(prob,axis=1)\n",
    "        # print(argmax)\n",
    "        y_predicted = [classes[i] for i in argmax]\n",
    "        return y_predicted\n",
    "                \n",
    "        ###################################################\n",
    "        ##### YOUR CODE ENDS HERE #########################\n",
    "        ###################################################"
   ]
  },
  {
   "cell_type": "markdown",
   "metadata": {},
   "source": [
    "**Tests**\n",
    "\n",
    "We will use the code below to check your code."
   ]
  },
  {
   "cell_type": "code",
   "execution_count": 47,
   "metadata": {},
   "outputs": [
    {
     "name": "stdout",
     "output_type": "stream",
     "text": [
      "Accuracy: 0.9333333333333333\n",
      "[2, 2, 2, 2, 2, 2, 2, 2, 2, 2, 2, 2, 2, 1, 1, 2, 2, 2, 2, 2, 2, 2, 2, 2, 2, 2, 2, 2, 2, 2]\n"
     ]
    }
   ],
   "source": [
    "# All features of the iris dataset are continuous.\n",
    "\n",
    "from sklearn.datasets import load_iris\n",
    "iris = load_iris()\n",
    "X, y = iris['data'], iris['target']\n",
    "\n",
    "N, D = X.shape\n",
    "Ntrain = int(0.8 * N)\n",
    "Xtrain = X[:Ntrain]\n",
    "ytrain = y[:Ntrain]\n",
    "Xtest = X[Ntrain:]\n",
    "ytest = y[Ntrain:]\n",
    "\n",
    "nbc_iris = NBC(feature_types=['r', 'r', 'r', 'r'],feature_category_numbers=[])\n",
    "nbc_iris.fit(Xtrain, ytrain)\n",
    "yhat = nbc_iris.predict(Xtest)\n",
    "test_accuracy = np.mean(yhat == ytest)\n",
    "\n",
    "print(\"Accuracy:\", test_accuracy) # should be larger than 90%\n",
    "print(yhat)"
   ]
  },
  {
   "cell_type": "code",
   "execution_count": 48,
   "metadata": {
    "scrolled": true
   },
   "outputs": [
    {
     "name": "stdout",
     "output_type": "stream",
     "text": [
      "Accuracy: 0.8723404255319149\n",
      "[1, 0, 1, 1, 0, 1, 1, 0, 0, 1, 1, 1, 0, 1, 1, 1, 1, 1, 0, 1, 1, 0, 1, 0, 0, 1, 1, 1, 0, 1, 1, 1, 0, 1, 0, 1, 0, 0, 0, 1, 0, 0, 0, 0, 1, 1, 0]\n"
     ]
    }
   ],
   "source": [
    "# All features of this dataset are binary\n",
    "import pandas as pd\n",
    "data = pd.read_csv('./datasets/binary_test.csv', header=None)\n",
    "data = data.to_numpy()\n",
    "\n",
    "X = data[:,1:]\n",
    "y = data[:,0]\n",
    "\n",
    "N, D = X.shape\n",
    "Ntrain = int(0.8 * N)\n",
    "Xtrain = X[:Ntrain]\n",
    "ytrain = y[:Ntrain]\n",
    "Xtest = X[Ntrain:]\n",
    "ytest = y[Ntrain:]\n",
    "\n",
    "\n",
    "nbc = NBC(feature_types=['b'] * 16,feature_category_numbers=[2]*16)\n",
    "nbc.fit(Xtrain, ytrain)\n",
    "yhat = nbc.predict(Xtest)\n",
    "test_accuracy = np.mean(yhat == ytest)\n",
    "\n",
    "print(\"Accuracy:\", test_accuracy) # should be larger than 85%\n",
    "print(yhat)"
   ]
  },
  {
   "cell_type": "code",
   "execution_count": 49,
   "metadata": {},
   "outputs": [
    {
     "name": "stdout",
     "output_type": "stream",
     "text": [
      "Accuracy: 0.6551724137931034\n",
      "[0, 1, 0, 1, 1, 0, 1, 1, 0, 1, 0, 0, 1, 0, 1, 0, 0, 0, 0, 1, 0, 0, 1, 0, 0, 1, 1, 0, 1, 0, 1, 0, 0, 0, 0, 1, 0, 1, 1, 0, 0, 0, 0, 0, 1, 0, 0, 0, 0, 0, 0, 0, 1, 0, 0, 0, 0, 0]\n"
     ]
    }
   ],
   "source": [
    "# All features of this dataset are categorical (bonus task)\n",
    "\n",
    "data = pd.read_csv('./datasets/categorical_test.csv', header=None)\n",
    "data = data.to_numpy()\n",
    "\n",
    "X = data[:,:-1]\n",
    "y = data[:,-1]\n",
    "\n",
    "N, D = X.shape\n",
    "Ntrain = int(0.8 * N)\n",
    "Xtrain = X[:Ntrain]\n",
    "ytrain = y[:Ntrain]\n",
    "Xtest = X[Ntrain:]\n",
    "ytest = y[Ntrain:]\n",
    "\n",
    "feature_category_numbers = []\n",
    "for j in range(D):\n",
    "    feature_category_numbers.append(len(np.unique(X[:,j])))\n",
    "\n",
    "nbc = NBC(feature_types=['c'] * 9,feature_category_numbers=feature_category_numbers)\n",
    "nbc.fit(Xtrain, ytrain)\n",
    "yhat = nbc.predict(Xtest)\n",
    "test_accuracy = np.mean(yhat == ytest)\n",
    "\n",
    "print(\"Accuracy:\", test_accuracy) # should be larger than 65%\n",
    "print(yhat) "
   ]
  },
  {
   "cell_type": "markdown",
   "metadata": {},
   "source": [
    "## Logistic Regression"
   ]
  },
  {
   "cell_type": "markdown",
   "metadata": {},
   "source": [
    "For logistic regression (LR), you should use the implementation in scikit-learn. Add the following\n",
    "line to import the LR model."
   ]
  },
  {
   "cell_type": "code",
   "execution_count": 50,
   "metadata": {},
   "outputs": [],
   "source": [
    "from sklearn.linear_model import LogisticRegression"
   ]
  },
  {
   "cell_type": "markdown",
   "metadata": {},
   "source": [
    "Check the scikit-learn documentation for the Logistic Regression model:\n",
    "- http://scikit-learn.org/stable/modules/linear_model.html#logistic-regression\n",
    "- http://scikit-learn.org/stable/modules/generated/sklearn.linear_model.LogisticRegression.html#sklearn.linear_model.LogisticRegression\n"
   ]
  },
  {
   "cell_type": "markdown",
   "metadata": {},
   "source": [
    "## Comparing NBC and LR"
   ]
  },
  {
   "cell_type": "markdown",
   "metadata": {},
   "source": [
    "### Experiments\n",
    "\n",
    "The experiment is to compare the classification error of the NBC and LR trained on increasingly larger training datasets. \n",
    "Since the datasets are so small, you should do this multiple times and\n",
    "average the classification error. One run should look as follows:\n",
    "- Shuffle the data, put 20% aside for testing.\n",
    "    \n",
    "    ```N, D = X.shape\n",
    "    Ntrain = int(0.8 * N)\n",
    "    shuffler = np.random.permutation(N)\n",
    "    Xtrain = X[shuffler[:Ntrain]]\n",
    "    ytrain = y[shuffler[:Ntrain]]\n",
    "    Xtest = X[shuffler[Ntrain:]]\n",
    "    ytest = y[shuffler[Ntrain:]]\n",
    "    \n",
    "    ```  \n",
    "\n",
    "\n",
    "- Train the classifiers with increasingly more data. For example, we can train classifiers with 10%, 20%, ..., 100% of the training data. For each case store the classification errors on the test set of the classifiers.\n",
    "\n",
    "You may want to repeat this with at least 200 random permutations (possibly as large as 1000)\n",
    "to average out the test error across the runs. In the end, you will get average test errors as a function of the size of the training data. \n",
    "We have written for you the function for making the plots for the experiments. "
   ]
  },
  {
   "cell_type": "code",
   "execution_count": 51,
   "metadata": {},
   "outputs": [],
   "source": [
    "# inputs:\n",
    "#   nbc: Naive Bayes Classifier\n",
    "#   lr: Logistic Regression Classifier\n",
    "#   X, y: data\n",
    "#   num_runs: we need repeat num_runs times and store average results\n",
    "#   num_splits: we want to compare the two models on increasingly larger training sets.\n",
    "#               num_splits defines the number of increasing steps. \n",
    "# outputs:\n",
    "#   the arrays of the test errors across the runs of the two classifiers \n",
    "\n",
    "from sklearn.preprocessing import MinMaxScaler, StandardScaler\n",
    "\n",
    "def compareNBCvsLR(nbc, lr, X, y, num_runs=200, num_splits=10, needNormalization=True):\n",
    "    \n",
    "    # The code below is just for compilation. \n",
    "    # You need to replace it by your own code.\n",
    "    ###################################################\n",
    "    ##### YOUR CODE STARTS HERE #######################\n",
    "    ###################################################\n",
    "    tst_errs_nbc = np.zeros(num_splits)\n",
    "    tst_errs_lr = np.zeros(num_splits)\n",
    "\n",
    "    N = X.shape[0]\n",
    "    step = 1/num_splits\n",
    "    train_port = 0\n",
    "    \n",
    "    # repeat num_runs times\n",
    "    for round in range(0, num_runs):\n",
    "\n",
    "        # Shuffle the data, put 20% aside for testing\n",
    "        # np.random.seed(40)\n",
    "        Ntrain = int(0.8 * N)\n",
    "        shuffler = np.random.permutation(N)\n",
    "        Xtrain = X[shuffler[:Ntrain]]\n",
    "        ytrain = y[shuffler[:Ntrain]]\n",
    "        Xtest = X[shuffler[Ntrain:]]\n",
    "        ytest = y[shuffler[Ntrain:]]\n",
    "\n",
    "        #Nomalisation\n",
    "        if needNormalization == True:\n",
    "            scaler = StandardScaler()\n",
    "            scaler.fit(Xtrain)\n",
    "            Xtrain = scaler.transform(Xtrain)\n",
    "            Xtest = scaler.transform(Xtest)\n",
    "\n",
    "        # set diffrent portion of training data\n",
    "        for i in range(0, num_splits):\n",
    "\n",
    "            # size of the training data\n",
    "            train_port = (i+1) * step\n",
    "            train_size = int(Ntrain * train_port)\n",
    "            \n",
    "            X_train = Xtrain[:train_size]\n",
    "            y_train = ytrain[:train_size]\n",
    "\n",
    "            # error of nbc\n",
    "            nbc.fit(X_train, y_train)\n",
    "            yhat_nbc = nbc.predict(Xtest)\n",
    "            tst_errs_nbc[i] += np.mean(yhat_nbc != ytest)\n",
    "            \n",
    "            #error of lr\n",
    "            lr.fit(X_train, y_train)\n",
    "            yhat_lr = lr.predict(Xtest)\n",
    "            tst_errs_lr[i] += np.mean(yhat_lr != ytest)\n",
    "    \n",
    "    # average test error for the set size of training data\n",
    "    tst_errs_nbc /= num_runs\n",
    "    tst_errs_lr /= num_runs\n",
    "\n",
    "    return tst_errs_nbc, tst_errs_lr\n",
    "    ###################################################\n",
    "    ##### YOUR CODE ENDS HERE #########################\n",
    "    ###################################################"
   ]
  },
  {
   "cell_type": "code",
   "execution_count": 52,
   "metadata": {},
   "outputs": [],
   "source": [
    "def makePlot(tst_errs_nbc, tst_errs_lr, title=None, num_splits=10):\n",
    "    fig = plt.figure()\n",
    "    ax = fig.add_subplot(1, 1, 1)\n",
    "\n",
    "    ax.tick_params(axis='both', labelsize=20)\n",
    "\n",
    "    ax.set_xlabel('Percent of training data used', fontsize=20)\n",
    "    ax.set_ylabel('Classification Error', fontsize=20)\n",
    "    if title is not None: ax.set_title(title, fontsize=25)\n",
    "\n",
    "    xaxis_scale = [(i + 1) * (100/num_splits) for i in range(num_splits)]\n",
    "    plt.plot(xaxis_scale, tst_errs_nbc, label='Naive Bayes')\n",
    "    plt.plot(xaxis_scale, tst_errs_lr, label='Logistic Regression', linestyle='dashed')\n",
    "    \n",
    "    ax.legend(loc='upper right', fontsize=20)"
   ]
  },
  {
   "cell_type": "markdown",
   "metadata": {},
   "source": [
    "### Datasets"
   ]
  },
  {
   "cell_type": "markdown",
   "metadata": {},
   "source": [
    "Tasks: For each dataset,\n",
    "1. prepare the data for the two classifiers, e.g., handle missing values, handle text/categorical data, etc.\n",
    "2. compare the two classifiers on the dataset and generate the plots\n",
    "3. write a short report of how you prepare the data and your observations of the comparison "
   ]
  },
  {
   "cell_type": "markdown",
   "metadata": {},
   "source": [
    "**Dataset 1: Iris Dataset**\n",
    "\n",
    "https://scikit-learn.org/stable/auto_examples/datasets/plot_iris_dataset.html"
   ]
  },
  {
   "cell_type": "code",
   "execution_count": 53,
   "metadata": {
    "scrolled": true
   },
   "outputs": [
    {
     "data": {
      "image/png": "[encoded data removed]",
      "text/plain": [
       "<Figure size 720x720 with 1 Axes>"
      ]
     },
     "metadata": {
      "needs_background": "light"
     },
     "output_type": "display_data"
    }
   ],
   "source": [
    "# TODO: insert your code for experiments\n",
    "###################################################\n",
    "##### YOUR CODE STARTS HERE #######################\n",
    "###################################################\n",
    "from sklearn.datasets import load_iris\n",
    "import pandas as pd\n",
    "from sklearn.model_selection import train_test_split\n",
    "from sklearn.preprocessing import MinMaxScaler, StandardScaler\n",
    "\n",
    "iris = load_iris()\n",
    "dir(iris)\n",
    "# df_iris.info()\n",
    "\n",
    "df_iris = pd.DataFrame(iris.data, columns=iris.feature_names)\n",
    "df_iris['target'] = pd.Series(iris.target)\n",
    "\n",
    "## convert to numpy ndarrays\n",
    "iris = df_iris.to_numpy()\n",
    "\n",
    "## split X and y\n",
    "X1 = iris[:,:-1]\n",
    "y1 = iris[:,-1]\n",
    "\n",
    "nbc = NBC(feature_types=['r', 'r', 'r', 'r'], feature_category_numbers=[])\n",
    "lr = LogisticRegression()\n",
    "\n",
    "tst_errs_nbc, tst_errs_lr = compareNBCvsLR(nbc, lr, X1, y1, num_runs=200, num_splits=10)\n",
    "#print(tst_errs_nbc, tst_errs_lr)\n",
    "makePlot(tst_errs_nbc, tst_errs_lr, title=None, num_splits=10)\n",
    "###################################################\n",
    "##### YOUR CODE ENDS HERE #########################\n",
    "###################################################"
   ]
  },
  {
   "cell_type": "markdown",
   "metadata": {},
   "source": [
    "**Dataset 2: Voting Dataset**\n",
    "\n",
    "https://archive.ics.uci.edu/ml/datasets/congressional+voting+records\n",
    "\n",
    "The logistic regression line meets the naive bayes line early in the plot. To see it clearer, you should use only 100 data points from the dataset for this experiment."
   ]
  },
  {
   "cell_type": "code",
   "execution_count": 54,
   "metadata": {
    "scrolled": true
   },
   "outputs": [
    {
     "name": "stdout",
     "output_type": "stream",
     "text": [
      "<class 'pandas.core.frame.DataFrame'>\n",
      "RangeIndex: 435 entries, 0 to 434\n",
      "Data columns (total 17 columns):\n",
      " #   Column                                  Non-Null Count  Dtype \n",
      "---  ------                                  --------------  ----- \n",
      " 0   label                                   435 non-null    object\n",
      " 1   handicapped-infants                     423 non-null    object\n",
      " 2   water-project-cost-sharing              387 non-null    object\n",
      " 3   adoption-of-the-budget-resolution       424 non-null    object\n",
      " 4   physician-fee-freeze                    424 non-null    object\n",
      " 5   el-salvador-aid                         420 non-null    object\n",
      " 6   religious-groups-in-schools             424 non-null    object\n",
      " 7   anti-satellite-test-ban                 421 non-null    object\n",
      " 8   aid-to-nicaraguan-contras               420 non-null    object\n",
      " 9   mx-missile                              413 non-null    object\n",
      " 10  immigration                             428 non-null    object\n",
      " 11  synfuels-corporation-cutback            414 non-null    object\n",
      " 12  education-spending                      404 non-null    object\n",
      " 13  superfund-right-to-sue                  410 non-null    object\n",
      " 14  crime                                   418 non-null    object\n",
      " 15  duty-free-exports                       407 non-null    object\n",
      " 16  export-administration-act-south-africa  331 non-null    object\n",
      "dtypes: object(17)\n",
      "memory usage: 57.9+ KB\n"
     ]
    },
    {
     "data": {
      "image/png": "[encoded data removed]",
      "text/plain": [
       "<Figure size 720x720 with 1 Axes>"
      ]
     },
     "metadata": {
      "needs_background": "light"
     },
     "output_type": "display_data"
    }
   ],
   "source": [
    "# load the dataset\n",
    "# TODO: insert your code for experiments\n",
    "###################################################\n",
    "##### YOUR CODE STARTS HERE #######################\n",
    "###################################################\n",
    "from sklearn.preprocessing import LabelEncoder\n",
    "\n",
    "# import data\n",
    "voting = pd.read_csv('./datasets/voting.csv')\n",
    "voting.info()\n",
    "\n",
    "# remove missing values\n",
    "voting = voting.dropna()\n",
    "# print(type(voting))\n",
    "\n",
    "voting = voting.to_numpy()\n",
    "\n",
    "encoder = LabelEncoder()\n",
    "for i in range(0,np.shape(voting)[1]):\n",
    "    voting[:,i] = encoder.fit_transform(voting[:,i])\n",
    "\n",
    "# print(type(voting))\n",
    "# print(voting)\n",
    "# print(np.shape(voting))\n",
    "arr = np.array(voting)\n",
    "voting = np.stack(arr).astype(None)\n",
    "\n",
    "# split X and y\n",
    "y2 = voting[-100:,0]\n",
    "X2 = voting[-100:,1:]\n",
    "\n",
    "nbc = NBC(feature_types=['b'] * 16, feature_category_numbers=[2]*16)\n",
    "lr = LogisticRegression(C=5.0, multi_class='ovr')\n",
    "\n",
    "tst_errs_nbc, tst_errs_lr = compareNBCvsLR(nbc, lr, X2, y2, num_runs=200, num_splits=10,needNormalization = False)\n",
    "makePlot(tst_errs_nbc, tst_errs_lr, title=None, num_splits=10)\n",
    "# ###################################################\n",
    "##### YOUR CODE ENDS HERE #########################\n",
    "###################################################"
   ]
  },
  {
   "cell_type": "markdown",
   "metadata": {},
   "source": [
    "**Report**\n",
    "\n",
    "1. Data Preparation\n",
    "\n",
    "   For each dataset, after importing the data, we firstly check the basic information about the dataset.\n",
    "   \n",
    "   Then we remove the rows with missing data.\n",
    "   \n",
    "   For the voting dataset, since each feature only has two categorial values y and n, we convert the values into binary values 1 and 0.\n",
    "\n",
    "2. Comparison\n",
    "\n",
    "   For the iris dataset, after implementing two different classifiers, we can see that NBC has a better performance at the beginning with a smaller training data. Although some waves during the process, as the size of training data increases, logistic regression would eventually catch up to the performance of NBC, and may even overtake if the numbers of training data keepsincreasing.\n",
    "   "
   ]
  },
  {
   "cell_type": "code",
   "execution_count": null,
   "metadata": {},
   "outputs": [],
   "source": []
  }
 ],
 "metadata": {
  "kernelspec": {
   "display_name": "Python 3 (ipykernel)",
   "language": "python",
   "name": "python3"
  },
  "language_info": {
   "codemirror_mode": {
    "name": "ipython",
    "version": 3
   },
   "file_extension": ".py",
   "mimetype": "text/x-python",
   "name": "python",
   "nbconvert_exporter": "python",
   "pygments_lexer": "ipython3",
   "version": "3.9.12"
  },
  "vscode": {
   "interpreter": {
    "hash": "40d3a090f54c6569ab1632332b64b2c03c39dcf918b08424e98f38b5ae0af88f"
   }
  }
 },
 "nbformat": 4,
 "nbformat_minor": 4
}
